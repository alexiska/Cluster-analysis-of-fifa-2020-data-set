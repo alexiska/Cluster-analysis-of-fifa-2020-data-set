{
 "cells": [
  {
   "cell_type": "markdown",
   "metadata": {},
   "source": [
    " # Cluster analysis of the top 100 valuable FIFA 2020 players\n",
    " \n",
    "In this exercise soccer players skills will be used to determine their positions by using a machine learning technique called K-means clustering which is an unsupervised machine learning algorithm. The algorithm tries to find relationships between the observations which have similair pattern and try to cluster them together. The provided data set do have player's positions but will not include them during clustering, otherwise this exercise is meaningless.\n",
    "The player's position data will be compared later after the cluster analysis to se how the analysis performed.\n",
    "\n",
    "\n",
    "### Table of contents:\n",
    "*   [Data cleaning](#cleaning)\n",
    "*   [Exploratory data analysis](#eda)\n",
    "*   [Cluster analysis](#analys) \n",
    "*   [Conclusion](#conclusion)\n",
    "\n"
   ]
  },
  {
   "cell_type": "code",
   "execution_count": 3,
   "metadata": {},
   "outputs": [
    {
     "ename": "FileNotFoundError",
     "evalue": "[Errno 2] No such file or directory: '../Data/players_20.csv'",
     "output_type": "error",
     "traceback": [
      "\u001b[1;31m---------------------------------------------------------------------------\u001b[0m",
      "\u001b[1;31mFileNotFoundError\u001b[0m                         Traceback (most recent call last)",
      "\u001b[1;32m<ipython-input-3-aac247abff7a>\u001b[0m in \u001b[0;36m<module>\u001b[1;34m\u001b[0m\n\u001b[0;32m      6\u001b[0m \u001b[1;32mimport\u001b[0m \u001b[0mseaborn\u001b[0m \u001b[1;32mas\u001b[0m \u001b[0msns\u001b[0m\u001b[1;33m\u001b[0m\u001b[1;33m\u001b[0m\u001b[0m\n\u001b[0;32m      7\u001b[0m \u001b[1;33m\u001b[0m\u001b[0m\n\u001b[1;32m----> 8\u001b[1;33m \u001b[0mdf\u001b[0m \u001b[1;33m=\u001b[0m \u001b[0mpd\u001b[0m\u001b[1;33m.\u001b[0m\u001b[0mread_csv\u001b[0m\u001b[1;33m(\u001b[0m\u001b[1;34m'../Data/players_20.csv'\u001b[0m\u001b[1;33m)\u001b[0m\u001b[1;33m\u001b[0m\u001b[1;33m\u001b[0m\u001b[0m\n\u001b[0m",
      "\u001b[1;32m~\\AppData\\Local\\Continuum\\anaconda3\\lib\\site-packages\\pandas\\io\\parsers.py\u001b[0m in \u001b[0;36mread_csv\u001b[1;34m(filepath_or_buffer, sep, delimiter, header, names, index_col, usecols, squeeze, prefix, mangle_dupe_cols, dtype, engine, converters, true_values, false_values, skipinitialspace, skiprows, skipfooter, nrows, na_values, keep_default_na, na_filter, verbose, skip_blank_lines, parse_dates, infer_datetime_format, keep_date_col, date_parser, dayfirst, cache_dates, iterator, chunksize, compression, thousands, decimal, lineterminator, quotechar, quoting, doublequote, escapechar, comment, encoding, dialect, error_bad_lines, warn_bad_lines, delim_whitespace, low_memory, memory_map, float_precision)\u001b[0m\n\u001b[0;32m    684\u001b[0m     )\n\u001b[0;32m    685\u001b[0m \u001b[1;33m\u001b[0m\u001b[0m\n\u001b[1;32m--> 686\u001b[1;33m     \u001b[1;32mreturn\u001b[0m \u001b[0m_read\u001b[0m\u001b[1;33m(\u001b[0m\u001b[0mfilepath_or_buffer\u001b[0m\u001b[1;33m,\u001b[0m \u001b[0mkwds\u001b[0m\u001b[1;33m)\u001b[0m\u001b[1;33m\u001b[0m\u001b[1;33m\u001b[0m\u001b[0m\n\u001b[0m\u001b[0;32m    687\u001b[0m \u001b[1;33m\u001b[0m\u001b[0m\n\u001b[0;32m    688\u001b[0m \u001b[1;33m\u001b[0m\u001b[0m\n",
      "\u001b[1;32m~\\AppData\\Local\\Continuum\\anaconda3\\lib\\site-packages\\pandas\\io\\parsers.py\u001b[0m in \u001b[0;36m_read\u001b[1;34m(filepath_or_buffer, kwds)\u001b[0m\n\u001b[0;32m    450\u001b[0m \u001b[1;33m\u001b[0m\u001b[0m\n\u001b[0;32m    451\u001b[0m     \u001b[1;31m# Create the parser.\u001b[0m\u001b[1;33m\u001b[0m\u001b[1;33m\u001b[0m\u001b[1;33m\u001b[0m\u001b[0m\n\u001b[1;32m--> 452\u001b[1;33m     \u001b[0mparser\u001b[0m \u001b[1;33m=\u001b[0m \u001b[0mTextFileReader\u001b[0m\u001b[1;33m(\u001b[0m\u001b[0mfp_or_buf\u001b[0m\u001b[1;33m,\u001b[0m \u001b[1;33m**\u001b[0m\u001b[0mkwds\u001b[0m\u001b[1;33m)\u001b[0m\u001b[1;33m\u001b[0m\u001b[1;33m\u001b[0m\u001b[0m\n\u001b[0m\u001b[0;32m    453\u001b[0m \u001b[1;33m\u001b[0m\u001b[0m\n\u001b[0;32m    454\u001b[0m     \u001b[1;32mif\u001b[0m \u001b[0mchunksize\u001b[0m \u001b[1;32mor\u001b[0m \u001b[0miterator\u001b[0m\u001b[1;33m:\u001b[0m\u001b[1;33m\u001b[0m\u001b[1;33m\u001b[0m\u001b[0m\n",
      "\u001b[1;32m~\\AppData\\Local\\Continuum\\anaconda3\\lib\\site-packages\\pandas\\io\\parsers.py\u001b[0m in \u001b[0;36m__init__\u001b[1;34m(self, f, engine, **kwds)\u001b[0m\n\u001b[0;32m    944\u001b[0m             \u001b[0mself\u001b[0m\u001b[1;33m.\u001b[0m\u001b[0moptions\u001b[0m\u001b[1;33m[\u001b[0m\u001b[1;34m\"has_index_names\"\u001b[0m\u001b[1;33m]\u001b[0m \u001b[1;33m=\u001b[0m \u001b[0mkwds\u001b[0m\u001b[1;33m[\u001b[0m\u001b[1;34m\"has_index_names\"\u001b[0m\u001b[1;33m]\u001b[0m\u001b[1;33m\u001b[0m\u001b[1;33m\u001b[0m\u001b[0m\n\u001b[0;32m    945\u001b[0m \u001b[1;33m\u001b[0m\u001b[0m\n\u001b[1;32m--> 946\u001b[1;33m         \u001b[0mself\u001b[0m\u001b[1;33m.\u001b[0m\u001b[0m_make_engine\u001b[0m\u001b[1;33m(\u001b[0m\u001b[0mself\u001b[0m\u001b[1;33m.\u001b[0m\u001b[0mengine\u001b[0m\u001b[1;33m)\u001b[0m\u001b[1;33m\u001b[0m\u001b[1;33m\u001b[0m\u001b[0m\n\u001b[0m\u001b[0;32m    947\u001b[0m \u001b[1;33m\u001b[0m\u001b[0m\n\u001b[0;32m    948\u001b[0m     \u001b[1;32mdef\u001b[0m \u001b[0mclose\u001b[0m\u001b[1;33m(\u001b[0m\u001b[0mself\u001b[0m\u001b[1;33m)\u001b[0m\u001b[1;33m:\u001b[0m\u001b[1;33m\u001b[0m\u001b[1;33m\u001b[0m\u001b[0m\n",
      "\u001b[1;32m~\\AppData\\Local\\Continuum\\anaconda3\\lib\\site-packages\\pandas\\io\\parsers.py\u001b[0m in \u001b[0;36m_make_engine\u001b[1;34m(self, engine)\u001b[0m\n\u001b[0;32m   1176\u001b[0m     \u001b[1;32mdef\u001b[0m \u001b[0m_make_engine\u001b[0m\u001b[1;33m(\u001b[0m\u001b[0mself\u001b[0m\u001b[1;33m,\u001b[0m \u001b[0mengine\u001b[0m\u001b[1;33m=\u001b[0m\u001b[1;34m\"c\"\u001b[0m\u001b[1;33m)\u001b[0m\u001b[1;33m:\u001b[0m\u001b[1;33m\u001b[0m\u001b[1;33m\u001b[0m\u001b[0m\n\u001b[0;32m   1177\u001b[0m         \u001b[1;32mif\u001b[0m \u001b[0mengine\u001b[0m \u001b[1;33m==\u001b[0m \u001b[1;34m\"c\"\u001b[0m\u001b[1;33m:\u001b[0m\u001b[1;33m\u001b[0m\u001b[1;33m\u001b[0m\u001b[0m\n\u001b[1;32m-> 1178\u001b[1;33m             \u001b[0mself\u001b[0m\u001b[1;33m.\u001b[0m\u001b[0m_engine\u001b[0m \u001b[1;33m=\u001b[0m \u001b[0mCParserWrapper\u001b[0m\u001b[1;33m(\u001b[0m\u001b[0mself\u001b[0m\u001b[1;33m.\u001b[0m\u001b[0mf\u001b[0m\u001b[1;33m,\u001b[0m \u001b[1;33m**\u001b[0m\u001b[0mself\u001b[0m\u001b[1;33m.\u001b[0m\u001b[0moptions\u001b[0m\u001b[1;33m)\u001b[0m\u001b[1;33m\u001b[0m\u001b[1;33m\u001b[0m\u001b[0m\n\u001b[0m\u001b[0;32m   1179\u001b[0m         \u001b[1;32melse\u001b[0m\u001b[1;33m:\u001b[0m\u001b[1;33m\u001b[0m\u001b[1;33m\u001b[0m\u001b[0m\n\u001b[0;32m   1180\u001b[0m             \u001b[1;32mif\u001b[0m \u001b[0mengine\u001b[0m \u001b[1;33m==\u001b[0m \u001b[1;34m\"python\"\u001b[0m\u001b[1;33m:\u001b[0m\u001b[1;33m\u001b[0m\u001b[1;33m\u001b[0m\u001b[0m\n",
      "\u001b[1;32m~\\AppData\\Local\\Continuum\\anaconda3\\lib\\site-packages\\pandas\\io\\parsers.py\u001b[0m in \u001b[0;36m__init__\u001b[1;34m(self, src, **kwds)\u001b[0m\n\u001b[0;32m   2006\u001b[0m         \u001b[0mkwds\u001b[0m\u001b[1;33m[\u001b[0m\u001b[1;34m\"usecols\"\u001b[0m\u001b[1;33m]\u001b[0m \u001b[1;33m=\u001b[0m \u001b[0mself\u001b[0m\u001b[1;33m.\u001b[0m\u001b[0musecols\u001b[0m\u001b[1;33m\u001b[0m\u001b[1;33m\u001b[0m\u001b[0m\n\u001b[0;32m   2007\u001b[0m \u001b[1;33m\u001b[0m\u001b[0m\n\u001b[1;32m-> 2008\u001b[1;33m         \u001b[0mself\u001b[0m\u001b[1;33m.\u001b[0m\u001b[0m_reader\u001b[0m \u001b[1;33m=\u001b[0m \u001b[0mparsers\u001b[0m\u001b[1;33m.\u001b[0m\u001b[0mTextReader\u001b[0m\u001b[1;33m(\u001b[0m\u001b[0msrc\u001b[0m\u001b[1;33m,\u001b[0m \u001b[1;33m**\u001b[0m\u001b[0mkwds\u001b[0m\u001b[1;33m)\u001b[0m\u001b[1;33m\u001b[0m\u001b[1;33m\u001b[0m\u001b[0m\n\u001b[0m\u001b[0;32m   2009\u001b[0m         \u001b[0mself\u001b[0m\u001b[1;33m.\u001b[0m\u001b[0munnamed_cols\u001b[0m \u001b[1;33m=\u001b[0m \u001b[0mself\u001b[0m\u001b[1;33m.\u001b[0m\u001b[0m_reader\u001b[0m\u001b[1;33m.\u001b[0m\u001b[0munnamed_cols\u001b[0m\u001b[1;33m\u001b[0m\u001b[1;33m\u001b[0m\u001b[0m\n\u001b[0;32m   2010\u001b[0m \u001b[1;33m\u001b[0m\u001b[0m\n",
      "\u001b[1;32mpandas\\_libs\\parsers.pyx\u001b[0m in \u001b[0;36mpandas._libs.parsers.TextReader.__cinit__\u001b[1;34m()\u001b[0m\n",
      "\u001b[1;32mpandas\\_libs\\parsers.pyx\u001b[0m in \u001b[0;36mpandas._libs.parsers.TextReader._setup_parser_source\u001b[1;34m()\u001b[0m\n",
      "\u001b[1;31mFileNotFoundError\u001b[0m: [Errno 2] No such file or directory: '../Data/players_20.csv'"
     ]
    }
   ],
   "source": [
    "import pandas as pd\n",
    "import numpy as np\n",
    "import matplotlib.pyplot as plt\n",
    "from sklearn.preprocessing import StandardScaler\n",
    "from sklearn.cluster import KMeans\n",
    "import seaborn as sns\n",
    "\n",
    "df = pd.read_csv('../Data/players_20.csv')"
   ]
  },
  {
   "cell_type": "markdown",
   "metadata": {},
   "source": [
    "## Data cleaning <a id='cleaning'></a>"
   ]
  },
  {
   "cell_type": "code",
   "execution_count": null,
   "metadata": {},
   "outputs": [],
   "source": [
    "#Check the shape of the data frame\n",
    "df.shape\n"
   ]
  },
  {
   "cell_type": "markdown",
   "metadata": {},
   "source": [
    "There are 18278 players and 104 features in the data set. We will just focus on the top 100 players in this exercise."
   ]
  },
  {
   "cell_type": "code",
   "execution_count": null,
   "metadata": {},
   "outputs": [],
   "source": [
    "# Extract the top100 players based on their market value\n",
    "df_top100 = df.sort_values('value_eur',ascending=False)[:100]\n",
    "df_top100.head()            "
   ]
  },
  {
   "cell_type": "code",
   "execution_count": null,
   "metadata": {},
   "outputs": [],
   "source": [
    "# Make a new df with the numerical which consist players personal data and skill rating. Remove the sofifa_id column\n",
    "df_top100_new = df_top100[df_top100.describe().columns].copy()\n",
    "df_top100_new.drop(columns=['sofifa_id'],inplace=True)\n",
    "df_top100_new.head()"
   ]
  },
  {
   "cell_type": "code",
   "execution_count": null,
   "metadata": {},
   "outputs": [],
   "source": [
    "# Check for null values\n",
    "df_top100_new.isnull().any()"
   ]
  },
  {
   "cell_type": "markdown",
   "metadata": {},
   "source": [
    "It appears that some skillset have null values. It is probably due to goalkeeper don't have a certain skillset that other players have and vice versa. We will replace the nulls with 0."
   ]
  },
  {
   "cell_type": "code",
   "execution_count": null,
   "metadata": {},
   "outputs": [],
   "source": [
    "df_top100_new=df_top100_new.fillna(0)\n",
    "df_top100_new.isnull().any()"
   ]
  },
  {
   "cell_type": "markdown",
   "metadata": {},
   "source": [
    "All null values are now replaced. Let's explore the data set before cluster analysis.\n",
    "\n",
    "\n",
    "## Exploratory data analysis (EDA) <a id='eda'></a>\n",
    "\n",
    "Time to do some EDA to get a better picture of our data set.\n",
    "\n",
    "Let's plot how the age distribution is among the top 100 valuable players"
   ]
  },
  {
   "cell_type": "code",
   "execution_count": null,
   "metadata": {},
   "outputs": [],
   "source": [
    "df_top100['age'].hist()\n",
    "plt.xlabel('Age')\n",
    "plt.title('Age distribution among top 100 valuable  players')\n",
    "plt.show()"
   ]
  },
  {
   "cell_type": "markdown",
   "metadata": {},
   "source": [
    "From the histogram one can see that the average age is around 26 year and that the age distribution is normal distributed.\n",
    "\n",
    "\n",
    "As mentioned earlier, player's positions will not be included in the clustering. But for the EDA, the positions can be intereting to explore. Let's see how the positions are denoted for some of the players first\n"
   ]
  },
  {
   "cell_type": "code",
   "execution_count": null,
   "metadata": {},
   "outputs": [],
   "source": [
    "df_top100[['short_name','player_positions']].head()"
   ]
  },
  {
   "cell_type": "markdown",
   "metadata": {},
   "source": [
    "For convenience, the positions from the data set need to be translated into the four positions: <i>Goalkeeper</i>, <i>Defender</i>, <i>Midfielder</i> and <i>Striker</i>.\n",
    "\n",
    "At the moment the positions are divided into sub-groups. For instance, Messi can have either following positions: <i>RW</i>, <i>CF</i> and <i>ST</i> which are different positions for a striker. \n",
    "The sub-positions will be replaced with one of the main positions."
   ]
  },
  {
   "cell_type": "code",
   "execution_count": null,
   "metadata": {},
   "outputs": [],
   "source": [
    "# Plot number of players for each positions\n",
    "\n",
    "def change_pos_name(row):\n",
    "    \"\"\"\n",
    "    INPUT: Players postions, the sub-group\n",
    "    OUTPUT: One of the main four positions\n",
    "    \n",
    "    The function takes the inputs variable and splits the string.\n",
    "    Each splitted strings are then looped and identified as a new player postision and are stored in the list \"pos\".\n",
    "    If the list only consist of one player position, then that player position will be returned. \n",
    "    Else, if the number of player positions are more than one. Count the number  of occurrnce \n",
    "    for each player postions in the list and send the one which highest number.\n",
    "    If the number is equal between the player positions then return the postion in the list. \n",
    "       \n",
    "    \"\"\" \n",
    "    pos = []\n",
    "    positions = row.replace(\",\",'').split() # Split the string with the positions\n",
    "\n",
    "    for i in positions:\n",
    "        if i in [\"RB\" , \"CB\" , \"LB\" , \"RCB\" , \"RWB\" , \"LCB\"]:\n",
    "            pos.append('Defender')\n",
    "        if i in [\"RW\" , \"CF\" , \"LW\" , \"ST\" , \"RS\" , \"LS\" , \"LF\" , \"RF\"] :\n",
    "            pos.append('Striker')\n",
    "        if i in [\"RM\" , \"CM\" , \"LM\" , \"CAM\" , \"LDM\" , \"RDM\" , \"LAM\" , \"RAM\" , \"CDM\", \"RCM\", \"LCM\"]:\n",
    "            pos.append('Midfielder')\n",
    "        if i in [\"GK\"]:\n",
    "            pos.append('Goalkeeper')\n",
    "\n",
    "    if len(pos) == 1:\n",
    "        return pos[0]\n",
    "    else:\n",
    "        if pos.count(pos[0]) == 1 and pos.count(pos[1]) == 1:\n",
    "            return pos[0]\n",
    "        if pos.count(pos[0]) == 1 and pos.count(pos[1]) != 1:\n",
    "            return pos[1]\n",
    "        if pos.count(pos[0]) != 1: \n",
    "            return pos[0]\n",
    "\n",
    "\n",
    "df_top100['player_positions_update']=df_top100['player_positions'].apply(lambda row:change_pos_name(row))\n",
    "df_top100['player_positions_update'].hist()\n",
    "plt.show()"
   ]
  },
  {
   "cell_type": "markdown",
   "metadata": {},
   "source": [
    "Midfielder is the dominating position and goalkeeper is the least dominating position."
   ]
  },
  {
   "cell_type": "code",
   "execution_count": null,
   "metadata": {},
   "outputs": [],
   "source": [
    "# Plot the average salary for each positions\n",
    "sns.barplot(x='player_positions_update', y='value_eur',data=df_top100,ci=\"sd\")\n",
    "plt.show()"
   ]
  },
  {
   "cell_type": "markdown",
   "metadata": {},
   "source": [
    "Despite goalkeeper is the least dominating positions among 100 most valuable players, it has the second largest average salary. Highest salary does striker has and it is also the position with the highest variance among all positions. Defender has the least variance.\n",
    "Let's plot the relation between Wage vs Value for each position"
   ]
  },
  {
   "cell_type": "markdown",
   "metadata": {},
   "source": [
    "\n"
   ]
  },
  {
   "cell_type": "code",
   "execution_count": null,
   "metadata": {},
   "outputs": [],
   "source": [
    "# Plot Wage vs Value for the positions\n",
    "\n",
    "plt.figure(figsize=(12,4))\n",
    "sns.scatterplot(data=df_top100, x=\"value_eur\", y=\"wage_eur\", hue='player_positions_update')\n",
    "plt.title('Wage vs Value')\n",
    "plt.legend()\n",
    "plt.show()"
   ]
  },
  {
   "cell_type": "markdown",
   "metadata": {},
   "source": [
    "When it comes to value, the scatterplot complies with the previous barplot. There is one midfielder that stands out when it comes to value. However, majority of the midfielder only has 50% of that value which also lower the average salary as can be seen in the barplot. The trend for each position is the same, that is, a higher value gives a higher wage. However, the trend is different, striker has the strongest trend and goalkeeper seems to have an almost horizontal trend.\n",
    "\n",
    "Let's also see if age matters and plot the top 10 players with highest value. The age will be divided into three categories <i>Low age</i>, <i>Mid age</i> and <i>High age</i>."
   ]
  },
  {
   "cell_type": "code",
   "execution_count": null,
   "metadata": {},
   "outputs": [],
   "source": [
    "df_top100_new['age_cat']=pd.cut(df_top100['age'],bins=[19,24,29,34],include_lowest=True,labels=['Low age', 'Mid age', 'High age'] )\n",
    "\n",
    "fig, ax = plt.subplots(figsize=(13,5))\n",
    "\n",
    "sns.scatterplot(data=df_top100_new, x=\"value_eur\", y=\"wage_eur\", hue='age_cat')\n",
    "\n",
    "# top valueable players name\n",
    "top10_name = df_top100.sort_values(ascending=False, by='value_eur')[:10]['short_name']\n",
    "top10 =  df_top100.sort_values(ascending=False, by='value_eur')[:10]\n",
    "\n",
    "# Annotate the top valueable players name\n",
    "for i, txt in enumerate(top10_name):\n",
    "    ax.annotate(txt, (top10['value_eur'].iloc[i], top10['wage_eur'].iloc[i]))\n",
    "plt.title('Wage vs Value')\n",
    "plt.show()"
   ]
  },
  {
   "cell_type": "markdown",
   "metadata": {},
   "source": [
    "From the plot we can see a trend that higher value yield a higher wage. \n",
    "Player with a higher age tends to have a higher salary comapred to the younger players with similair value. Most of the younger players have also a lower value."
   ]
  },
  {
   "cell_type": "markdown",
   "metadata": {},
   "source": [
    "Now let's see which are the top 10 countries among the top 100 valuable players"
   ]
  },
  {
   "cell_type": "code",
   "execution_count": null,
   "metadata": {},
   "outputs": [],
   "source": [
    "nationality_count = df_top100.groupby('nationality')['sofifa_id'].count().sort_values(ascending=False)\n",
    "plt.bar(nationality_count.index[:10],nationality_count[:10])\n",
    "plt.xticks(rotation=45 )\n",
    "plt.title('Top 10 nationalities among top 100 valuable players')\n",
    "plt.show()\n"
   ]
  },
  {
   "cell_type": "markdown",
   "metadata": {},
   "source": [
    "The European countries are dominating. Only Brazil and Argentina are from outside Europe."
   ]
  },
  {
   "cell_type": "markdown",
   "metadata": {},
   "source": [
    "# Cluster analysis with K-means clustering <a id='analys'></a>\n",
    "\n",
    "Before the clustering some features will be chosen. There are 104 features in total in the data set but in this analysis only a few of them will be incuded. The feature <i>player_positions</i> will not be included. The values will be standardized which makes them more normal distributed. The number of clusters will be determined with <i>Elbow method</i>. Lastly, the clusters will be translated to players positions using different methods such as averge skill set for each cluster, historgram and pairplots. "
   ]
  },
  {
   "cell_type": "code",
   "execution_count": null,
   "metadata": {},
   "outputs": [],
   "source": [
    "# Choose the features we will use\n",
    "col = ['weak_foot', 'skill_moves',\n",
    "       'shooting','passing', 'dribbling', 'defending',  \n",
    "       'defending_marking', 'defending_standing_tackle',\n",
    "       'defending_sliding_tackle', 'goalkeeping_diving',\n",
    "       'goalkeeping_handling', 'goalkeeping_kicking',\n",
    "       'goalkeeping_positioning', 'goalkeeping_reflexes',\n",
    "      'attacking_crossing', 'attacking_finishing',\n",
    "       'attacking_heading_accuracy', 'attacking_short_passing',\n",
    "       'attacking_volleys']\n",
    "\n",
    "df_top100_update = df_top100_new[col]\n"
   ]
  },
  {
   "cell_type": "code",
   "execution_count": null,
   "metadata": {},
   "outputs": [],
   "source": [
    "# Standardise the valaues\n",
    "standard = StandardScaler()\n",
    "df_standard = standard.fit_transform(df_top100_update)\n",
    "df_standard"
   ]
  },
  {
   "cell_type": "code",
   "execution_count": null,
   "metadata": {},
   "outputs": [],
   "source": [
    "# Perform K-means clustering. Assuming 1 to 10 clusters\n",
    "wcss = []\n",
    "for i in range(1,11):\n",
    "    kmeans = KMeans(n_clusters = i, \n",
    "                    init = 'k-means++', \n",
    "                    random_state = 7)\n",
    "    kmeans.fit(df_standard)\n",
    "    wcss.append(kmeans.inertia_)"
   ]
  },
  {
   "cell_type": "code",
   "execution_count": null,
   "metadata": {},
   "outputs": [],
   "source": [
    "# Plot sum of squared distances of samples to their closest cluster center vs number of clusters\n",
    "plt.plot(range(1,11),wcss,'o--')\n",
    "plt.xlabel('Number of clusters')\n",
    "plt.ylabel('Within-Cluster-Sum-of-Squares (WCSS)')\n",
    "plt.title('Elbow method plot')\n",
    "plt.show()"
   ]
  },
  {
   "cell_type": "markdown",
   "metadata": {},
   "source": [
    "From the elbow method plot we can see that the elbow start at 3 clusters. \n",
    "However we now that there are 4 distinct positions in football (goalkeeper, defender, midfielder, striker). So we will choose 4 clusters for our case. Elbow method is just an indicator and sometimes it can be also be hard to find the elbow if the sum of squared distances does not drop sharply.\n",
    "\n",
    "We will use 4 clusters for our cluster analysis"
   ]
  },
  {
   "cell_type": "code",
   "execution_count": null,
   "metadata": {},
   "outputs": [],
   "source": [
    "# K-means with 4 clusters\n",
    "\n",
    "kmeans =KMeans(n_clusters = 4,\n",
    "               init = 'k-means++',\n",
    "               random_state = 7)\n",
    "kmeans.fit(df_standard)"
   ]
  },
  {
   "cell_type": "code",
   "execution_count": null,
   "metadata": {},
   "outputs": [],
   "source": [
    "# print the cluster for each 100 players\n",
    "\n",
    "kmeans.labels_"
   ]
  },
  {
   "cell_type": "code",
   "execution_count": null,
   "metadata": {},
   "outputs": [],
   "source": [
    "df_kmeans = df_top100_update.copy()\n",
    "df_kmeans['cluster'] = kmeans.labels_\n",
    "df_kmeans_analysis = df_kmeans.groupby('cluster').mean() \n",
    "df_kmeans_analysis"
   ]
  },
  {
   "cell_type": "markdown",
   "metadata": {},
   "source": [
    "We grouped each cluster and averaged all the values. From the table we can already see some interesting patterns:\n",
    "\n",
    "*    Cluster 1 has very high value when it comes to defending\n",
    "*    Cluster 2 has value zero for skills like shooting, passin, dribbling and defending. But very high value for goalkeeping skills\n",
    "\n",
    "\n",
    "We can almost conclude that Cluster 1 is defender and Cluster 2 is goalkeeper. Let's look how each cluster are distributed for each skill"
   ]
  },
  {
   "cell_type": "code",
   "execution_count": null,
   "metadata": {},
   "outputs": [],
   "source": [
    "#Visualise each skill for each cluster in a histogram \n",
    "pd.options.display.max_rows = 10500\n",
    "df_kmeans_i = df_kmeans.reset_index()\n",
    "for i in df_kmeans_i.iloc[:,1:20]:\n",
    "    grid= sns.FacetGrid(df_kmeans_i, col='cluster')\n",
    "    grid.map(plt.hist, i)\n",
    "    plt.show()"
   ]
  },
  {
   "cell_type": "markdown",
   "metadata": {},
   "source": [
    "From the histograms one can see that there are some skills that cluster 1 and cluster 2 respectively have that are more dominating compare to the other clusters. This complies with the table above.\n",
    "\n",
    "Let's use pairplot see the correlation between the skill sets with the respect to the clusters and also how the clusters are distributed with respect to each other."
   ]
  },
  {
   "cell_type": "code",
   "execution_count": null,
   "metadata": {},
   "outputs": [],
   "source": [
    "sns.pairplot(df_kmeans,vars=['shooting','passing', 'dribbling', 'defending',  \n",
    "                            'defending_marking', 'defending_standing_tackle'],                           \n",
    "                             hue='cluster',palette=\"tab10\")\n",
    "\n",
    "\n",
    "plt.show()"
   ]
  },
  {
   "cell_type": "code",
   "execution_count": null,
   "metadata": {},
   "outputs": [],
   "source": [
    "sns.pairplot(df_kmeans,vars=[  'goalkeeping_handling', 'goalkeeping_kicking',\n",
    "                           'goalkeeping_positioning', 'goalkeeping_reflexes',\n",
    "                            'defending_sliding_tackle', 'goalkeeping_diving'],\n",
    "                             hue='cluster',palette=\"tab10\")\n",
    "plt.show()"
   ]
  },
  {
   "cell_type": "markdown",
   "metadata": {},
   "source": [
    "Cluster 2 is very easy to distinguish in the pairplot. The other clusters are close to cluster 0 for certain skills. This is maybe due to the players do have a more offensive or defensive role. From earlier, the conclusion was cluster 2 is goalkeeper and cluster 1 is defender. Cluster 3 is probably striker and cluster 0 is midfielder. That should make sense since some players in cluster 1 and cluster 3 are very close to cluster 0. This means they swtich positions sometimes which is common for some players.\n",
    "\n",
    "From the clustering:\n",
    "*  cluster 0: Midfielder\n",
    "*  cluster 1: Defender\n",
    "*  cluster 2: Goalkeeper\n",
    "*  cluster 3: Striker\n"
   ]
  },
  {
   "cell_type": "code",
   "execution_count": null,
   "metadata": {},
   "outputs": [],
   "source": [
    "# Change cluster number to position name\n",
    "df_kmeans['cluster']=df_kmeans['cluster'].map({0:\"Midfielder\",\n",
    "                                               1:\"Defender\",\n",
    "                                               2:\"Goalkeeper\",\n",
    "                                               3:\"Striker\"})\n"
   ]
  },
  {
   "cell_type": "markdown",
   "metadata": {},
   "source": [
    "Compare the cluster results with the player positions that were provided from the data set."
   ]
  },
  {
   "cell_type": "code",
   "execution_count": null,
   "metadata": {},
   "outputs": [],
   "source": [
    "# Take only the top 100 valuable players from the ordignial data set\n",
    "player_name = df.loc[df_kmeans.index][['short_name','player_positions']]\n",
    "\n",
    "# Update players positions with the new position name\n",
    "player_name['player_positions']=player_name['player_positions'].apply(lambda row:change_pos_name(row))\n",
    "\n",
    "player_cluster = pd.concat([player_name,df_kmeans],axis=1)[['short_name','player_positions','cluster']]\n",
    "player_cluster"
   ]
  },
  {
   "cell_type": "markdown",
   "metadata": {},
   "source": [
    "The midfielder position seems to have some difficulties to cluster for some players which also complies with the pairplot as mentioned before.\n",
    "Let's calculate and see how many mismatches there are among the 100 players."
   ]
  },
  {
   "cell_type": "code",
   "execution_count": null,
   "metadata": {},
   "outputs": [],
   "source": [
    "def compare(row):\n",
    "    \"\"\"\n",
    "    INPUT: Each players positions from the data set and from the cluster\n",
    "    OUTPUT: 1 or 0 depending if it is equal or not\n",
    "    \n",
    "    The function compare the positions from the data set with the cluster analysis.\n",
    "    If the positions are equal the funcion return 0, otherwise it return 1.\n",
    "    \"\"\"\n",
    "    \n",
    "    if row[1] != row[2]:\n",
    "        \n",
    "        return 1\n",
    "    else:\n",
    "        return 0\n",
    "\n",
    "not_equal = []\n",
    "not_equal.append(player_cluster.apply(lambda row: compare(row),axis=1))\n",
    "\n",
    "np.array(not_equal).sum()\n"
   ]
  },
  {
   "cell_type": "markdown",
   "metadata": {},
   "source": [
    "There are 22 missmatches among the 100 players. If we include all the postions for players, how well will the cluster results be then?"
   ]
  },
  {
   "cell_type": "code",
   "execution_count": null,
   "metadata": {},
   "outputs": [],
   "source": [
    "# Plot number of players for each positions\n",
    "\n",
    "def change_pos_name1(row):\n",
    "    \"\"\"\n",
    "    INPUT: Players postions, the sub-group\n",
    "    OUTPUT: One of the main four positions\n",
    "    \n",
    "    The function takes the inputs variable and splits the string.\n",
    "    Each splitted strings are then looped and identified as a new player postision and are stored in the list \"pos\".\n",
    "    If the list only consist of one player position, then that player position will be returned. \n",
    "    Else, if the number of player positions are more than one. Count the number  of occurrnce \n",
    "    for each player postions in the list and send the one which highest number.\n",
    "    If the number is equal between the player positions then return the postion in the list. \n",
    "       \n",
    "    \"\"\" \n",
    "    pos1 = []\n",
    "    pos2 = []\n",
    "    positions = row.replace(\",\",'').split() # Split the string with the positions\n",
    "    \n",
    "    if len(positions) == 3:\n",
    "           \n",
    "        for i in range(0,len(positions),2):\n",
    "\n",
    "            if i == 0:  \n",
    "                    if positions[i] in [\"RB\" , \"CB\" , \"LB\" , \"RCB\" , \"RWB\" , \"LCB\"]:\n",
    "                        pos1.append('Defender')\n",
    "\n",
    "                    if positions[i] in [\"RW\" , \"CF\" , \"LW\" , \"ST\" , \"RS\" , \"LS\" , \"LF\" , \"RF\"] :\n",
    "                        pos1.append('Striker')\n",
    "\n",
    "                    if positions[i] in [\"RM\" , \"CM\" , \"LM\" , \"CAM\" , \"LDM\" , \"RDM\" , \"LAM\" , \"RAM\" , \"CDM\", \"RCM\", \"LCM\"]:\n",
    "                        pos1.append('Midfielder')\n",
    "\n",
    "                    if positions[i] in [\"GK\"]:\n",
    "                        pos1.append('Goalkeeper')\n",
    "\n",
    "            else:\n",
    "                if positions[i] in [\"RB\" , \"CB\" , \"LB\" , \"RCB\" , \"RWB\" , \"LCB\"]:\n",
    "                        pos2.append('Defender')\n",
    "                if positions[i] in [\"RW\" , \"CF\" , \"LW\" , \"ST\" , \"RS\" , \"LS\" , \"LF\" , \"RF\"] :\n",
    "                        pos2.append('Striker')\n",
    "                if positions[i] in [\"RM\" , \"CM\" , \"LM\" , \"CAM\" , \"LDM\" , \"RDM\" , \"LAM\" , \"RAM\" , \"CDM\", \"RCM\", \"LCM\"]:\n",
    "                        pos2.append('Midfielder')\n",
    "                if positions[i] in [\"GK\"]:\n",
    "                        pos2.append('Goalkeeper')\n",
    "    else:\n",
    "        for i in range(0,len(positions)):\n",
    "            if i == 0:  \n",
    "                    if positions[i] in [\"RB\" , \"CB\" , \"LB\" , \"RCB\" , \"RWB\" , \"LCB\"]:\n",
    "                        pos1.append('Defender')\n",
    "\n",
    "                    if positions[i] in [\"RW\" , \"CF\" , \"LW\" , \"ST\" , \"RS\" , \"LS\" , \"LF\" , \"RF\"] :\n",
    "                        pos1.append('Striker')\n",
    "\n",
    "                    if positions[i] in [\"RM\" , \"CM\" , \"LM\" , \"CAM\" , \"LDM\" , \"RDM\" , \"LAM\" , \"RAM\" , \"CDM\", \"RCM\", \"LCM\"]:\n",
    "                        pos1.append('Midfielder')\n",
    "\n",
    "                    if positions[i] in [\"GK\"]:\n",
    "                        pos1.append('Goalkeeper')\n",
    "\n",
    "            else:\n",
    "                if positions[i] in [\"RB\" , \"CB\" , \"LB\" , \"RCB\" , \"RWB\" , \"LCB\"]:\n",
    "                        pos2.append('Defender')\n",
    "                if positions[i] in [\"RW\" , \"CF\" , \"LW\" , \"ST\" , \"RS\" , \"LS\" , \"LF\" , \"RF\"] :\n",
    "                        pos2.append('Striker')\n",
    "                if positions[i] in [\"RM\" , \"CM\" , \"LM\" , \"CAM\" , \"LDM\" , \"RDM\" , \"LAM\" , \"RAM\" , \"CDM\", \"RCM\", \"LCM\"]:\n",
    "                        pos2.append('Midfielder')\n",
    "                if positions[i] in [\"GK\"]:\n",
    "                        pos2.append('Goalkeeper')\n",
    "    try:\n",
    "        return [pos1[0], pos2[0]]\n",
    "    except:\n",
    "        return pos1[0], ''\n",
    "lst_pos1 = []\n",
    "lst_pos2 = []\n",
    "\n",
    "df_top100['player_positions1']=df_top100['player_positions'].apply(lambda row:change_pos_name1(row))\n",
    "\n",
    "for i in df_top100['player_positions1']:\n",
    "    if len(i) == 1:\n",
    "        lst_pos1.append(i[0])\n",
    "    else:\n",
    "        lst_pos1.append(i[0])\n",
    "        lst_pos2.append(i[1])\n",
    "        \n",
    "df_player_pos = pd.DataFrame(list(zip(lst_pos1,lst_pos2)),columns=['position 1','position 2'])\n",
    "\n",
    "df_kmeans = df_kmeans.reset_index(drop=True)\n",
    "compare = pd.concat([df_player_pos,df_kmeans],axis=1)[['position 1','position 2','cluster']]\n",
    "compare"
   ]
  },
  {
   "cell_type": "markdown",
   "metadata": {},
   "source": [
    "# Conclusion <a id='conclusion'></a>"
   ]
  },
  {
   "cell_type": "markdown",
   "metadata": {},
   "source": [
    "From the data set I took the most valuable 100 players.\n",
    "EDA showed:\n",
    "*    Midfielder are the dominating position and goalkeeper is least dominating position\n",
    "*    Striker has highest average salary and goalkeeper has the second highest. Defender has the lowest average salary.\n",
    "*    The average age among the players are around 26 years\n",
    "*    Younger players value more skewed to lower range compared to the other age group\n",
    "*    Top 10 countries are dominated by European countries with France, Spain and Germany as top 3. Brazil and Argentina are the only countries that are not from Europe.\n",
    "\n",
    "Different method were performed to see patterns among the clusters during the cluster analysis. Two distinct clusters could be distinguished from the average skill set which were defender and goalkeeper. The midfielder cluster was not well separeted against defender and striker cluster respectively. One reason can be that players switched between two positions depending on the situation which makes the players skills not as distinct.\n",
    "Lastly, the positions that were determined by the cluster analysis were compared with the positions provided from the data set. 22 of 100 positions of did not match with the provided data. Most of these positions is due to the midfielder skill is not well separeted between striker and defender for some players."
   ]
  },
  {
   "cell_type": "code",
   "execution_count": null,
   "metadata": {},
   "outputs": [],
   "source": []
  }
 ],
 "metadata": {
  "kernelspec": {
   "display_name": "Python 3",
   "language": "python",
   "name": "python3"
  },
  "language_info": {
   "codemirror_mode": {
    "name": "ipython",
    "version": 3
   },
   "file_extension": ".py",
   "mimetype": "text/x-python",
   "name": "python",
   "nbconvert_exporter": "python",
   "pygments_lexer": "ipython3",
   "version": "3.7.9"
  }
 },
 "nbformat": 4,
 "nbformat_minor": 2
}
